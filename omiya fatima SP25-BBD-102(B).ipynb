{
 "cells": [
  {
   "cell_type": "code",
   "execution_count": 2,
   "id": "c0c3d5fa-2740-462d-b98a-7cc1ca433619",
   "metadata": {},
   "outputs": [
    {
     "name": "stdout",
     "output_type": "stream",
     "text": [
      "2\n",
      "4\n",
      "6\n",
      "8\n",
      "10\n",
      "12\n",
      "14\n",
      "16\n",
      "18\n",
      "20\n"
     ]
    }
   ],
   "source": [
    "# Q1 Write a for loop to print all even numbers from 2 to 20.\n",
    "for num in range(2,21,2):\n",
    "    print(num)"
   ]
  },
  {
   "cell_type": "code",
   "execution_count": 5,
   "id": "52b5f1f3-a593-440e-9c26-f46561037cba",
   "metadata": {},
   "outputs": [
    {
     "name": "stdout",
     "output_type": "stream",
     "text": [
      "OMIYA\n",
      "FATIMA\n",
      "KHADIJA\n"
     ]
    }
   ],
   "source": [
    "#Q2 Create a list of names and use a for loop to print each name in uppercase.\n",
    "names=['omiya','fatima','khadija']\n",
    "for name in names:\n",
    "    print(name.upper())"
   ]
  },
  {
   "cell_type": "code",
   "execution_count": 7,
   "id": "fabbe9d2-aaeb-429f-abfb-700565a36706",
   "metadata": {},
   "outputs": [
    {
     "name": "stdout",
     "output_type": "stream",
     "text": [
      "10\n",
      "9\n",
      "8\n",
      "7\n",
      "6\n",
      "5\n",
      "4\n",
      "3\n",
      "2\n",
      "1\n"
     ]
    }
   ],
   "source": [
    "#Q3 Use a for loop with range() to print numbers from 10 to 1 in reverse order.\n",
    "numbers=list(range(1,11))\n",
    "numbers.reverse()\n",
    "for num in numbers:\n",
    "    print(num)"
   ]
  },
  {
   "cell_type": "code",
   "execution_count": 9,
   "id": "fc115dd0-de71-4347-975e-227755b084c7",
   "metadata": {},
   "outputs": [
    {
     "name": "stdout",
     "output_type": "stream",
     "text": [
      "21\n",
      "60\n",
      "99\n"
     ]
    }
   ],
   "source": [
    "#Q4 Iterate through a list of integers and print only the numbers that are divisible by 3.\n",
    "numbers=[10,21,40,55,60,99]\n",
    "for num in numbers:\n",
    "    if num%3==0:\n",
    "        print(num)"
   ]
  },
  {
   "cell_type": "code",
   "execution_count": 10,
   "id": "371d0bf6-eae9-4ed5-8c7a-ff831aec8380",
   "metadata": {},
   "outputs": [
    {
     "name": "stdout",
     "output_type": "stream",
     "text": [
      "1\n",
      "4\n",
      "9\n",
      "16\n",
      "25\n",
      "36\n",
      "49\n",
      "64\n",
      "81\n",
      "100\n"
     ]
    }
   ],
   "source": [
    "#Q5 Write a loop that prints the squares of numbers from 1 to 10.\n",
    "for num in range(1,11):\n",
    "    print(num**2)"
   ]
  },
  {
   "cell_type": "code",
   "execution_count": 12,
   "id": "6b37a27b-5a93-43db-916f-70c1061fbd82",
   "metadata": {},
   "outputs": [
    {
     "name": "stdout",
     "output_type": "stream",
     "text": [
      "32.0\n",
      "50.0\n",
      "68.0\n",
      "86.0\n",
      "104.0\n",
      "122.0\n",
      "140.0\n"
     ]
    }
   ],
   "source": [
    "#Q6 Given a list of temperatures in Celsius, use a for loop to convert each to Fahrenheit\n",
    "celsius_temp=[0,10,20,30,40,50,60]\n",
    "for temp in celsius_temp:\n",
    "    print((temp*9/5)+32)\n"
   ]
  },
  {
   "cell_type": "code",
   "execution_count": 13,
   "id": "f98e02f3-4ea1-4eea-b73a-6457a967666e",
   "metadata": {},
   "outputs": [
    {
     "name": "stdout",
     "output_type": "stream",
     "text": [
      "5 x 1=5\n",
      "5 x 2=10\n",
      "5 x 3=15\n",
      "5 x 4=20\n",
      "5 x 5=25\n",
      "5 x 6=30\n",
      "5 x 7=35\n",
      "5 x 8=40\n",
      "5 x 9=45\n",
      "5 x 10=50\n"
     ]
    }
   ],
   "source": [
    "#Q7 Create a for loop that prints the multiplication table of 5.\n",
    "for num in range(1,11):\n",
    "    print(f\"5 x {num}={5*num}\")"
   ]
  },
  {
   "cell_type": "code",
   "execution_count": 16,
   "id": "faf487ab-2f8f-436e-a5d0-c80f57f0ad26",
   "metadata": {},
   "outputs": [
    {
     "name": "stdout",
     "output_type": "stream",
     "text": [
      "150\n"
     ]
    }
   ],
   "source": [
    "#Q8 Write a program to find the sum of all numbers in a list using a for loop.\n",
    "numbers = [10, 20, 30, 40, 50]\n",
    "total = 0\n",
    "for num in numbers:\n",
    "    total += num \n",
    "print(total)\n"
   ]
  },
  {
   "cell_type": "code",
   "execution_count": 17,
   "id": "ed66bb9f-3db4-42d3-b1ee-2c0bb2b19da7",
   "metadata": {},
   "outputs": [
    {
     "name": "stdout",
     "output_type": "stream",
     "text": [
      "H\n",
      "e\n",
      "l\n",
      "l\n",
      "o\n"
     ]
    }
   ],
   "source": [
    "#Q9 Use a for loop to iterate through a string and print each character separately.\n",
    "text = \"Hello\"\n",
    "for letter in text:\n",
    "    print(letter)\n"
   ]
  },
  {
   "cell_type": "code",
   "execution_count": 18,
   "id": "4279c77a-27cb-4e1b-96ae-eeb5b84e8321",
   "metadata": {},
   "outputs": [
    {
     "name": "stdout",
     "output_type": "stream",
     "text": [
      "banana\n",
      "cherry\n",
      "elephant\n"
     ]
    }
   ],
   "source": [
    "#Q10 Create a list of words and use a for loop to print only the words with more than 5 letters.\n",
    "words = [\"apple\", \"banana\", \"cherry\", \"date\", \"elephant\", \"gra\", \"grape\"]\n",
    "for word in words:\n",
    "    if len(word) > 5:\n",
    "        print(word)\n"
   ]
  },
  {
   "cell_type": "code",
   "execution_count": null,
   "id": "dfb562dd-3ec3-45b6-a88f-ef151e5c734a",
   "metadata": {},
   "outputs": [],
   "source": []
  }
 ],
 "metadata": {
  "kernelspec": {
   "display_name": "Python 3 (ipykernel)",
   "language": "python",
   "name": "python3"
  },
  "language_info": {
   "codemirror_mode": {
    "name": "ipython",
    "version": 3
   },
   "file_extension": ".py",
   "mimetype": "text/x-python",
   "name": "python",
   "nbconvert_exporter": "python",
   "pygments_lexer": "ipython3",
   "version": "3.12.7"
  }
 },
 "nbformat": 4,
 "nbformat_minor": 5
}
